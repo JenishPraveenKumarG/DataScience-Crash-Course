{
 "cells": [
  {
   "cell_type": "code",
   "execution_count": 1,
   "id": "5596dfef",
   "metadata": {},
   "outputs": [],
   "source": [
    "import numpy as np"
   ]
  },
  {
   "cell_type": "code",
   "execution_count": 2,
   "id": "f22c7b28",
   "metadata": {},
   "outputs": [
    {
     "data": {
      "text/plain": [
       "[1, 2, 3, 4, 5]"
      ]
     },
     "execution_count": 2,
     "metadata": {},
     "output_type": "execute_result"
    }
   ],
   "source": [
    "python_list = [1,2,3,4,5]\n",
    "python_list"
   ]
  },
  {
   "cell_type": "code",
   "execution_count": 3,
   "id": "993eb8a3",
   "metadata": {},
   "outputs": [
    {
     "data": {
      "text/plain": [
       "array([11, 12, 13])"
      ]
     },
     "execution_count": 3,
     "metadata": {},
     "output_type": "execute_result"
    }
   ],
   "source": [
    "np.array([11,12,13])"
   ]
  },
  {
   "cell_type": "code",
   "execution_count": 4,
   "id": "4482f8c0",
   "metadata": {},
   "outputs": [
    {
     "data": {
      "text/plain": [
       "array([1, 2, 3, 4, 5])"
      ]
     },
     "execution_count": 4,
     "metadata": {},
     "output_type": "execute_result"
    }
   ],
   "source": [
    "numpy_array = np.array(python_list)\n",
    "numpy_array"
   ]
  },
  {
   "cell_type": "code",
   "execution_count": 5,
   "id": "0b71cccd",
   "metadata": {},
   "outputs": [
    {
     "data": {
      "text/plain": [
       "5"
      ]
     },
     "execution_count": 5,
     "metadata": {},
     "output_type": "execute_result"
    }
   ],
   "source": [
    "len(numpy_array)"
   ]
  },
  {
   "cell_type": "code",
   "execution_count": 6,
   "id": "a7231acf",
   "metadata": {},
   "outputs": [
    {
     "data": {
      "text/plain": [
       "1"
      ]
     },
     "execution_count": 6,
     "metadata": {},
     "output_type": "execute_result"
    }
   ],
   "source": [
    "len(numpy_array.shape)"
   ]
  },
  {
   "cell_type": "code",
   "execution_count": 7,
   "id": "dc028929",
   "metadata": {},
   "outputs": [
    {
     "data": {
      "text/plain": [
       "[[1, 2], [3, 4]]"
      ]
     },
     "execution_count": 7,
     "metadata": {},
     "output_type": "execute_result"
    }
   ],
   "source": [
    "python_list_list = [[1,2] , [3,4]]\n",
    "python_list_list"
   ]
  },
  {
   "cell_type": "code",
   "execution_count": 8,
   "id": "2bfafd73",
   "metadata": {},
   "outputs": [],
   "source": [
    "numpy_array2 = np.array(python_list_list)"
   ]
  },
  {
   "cell_type": "code",
   "execution_count": 9,
   "id": "30a43583",
   "metadata": {},
   "outputs": [
    {
     "data": {
      "text/plain": [
       "2"
      ]
     },
     "execution_count": 9,
     "metadata": {},
     "output_type": "execute_result"
    }
   ],
   "source": [
    "len(numpy_array2.shape)"
   ]
  },
  {
   "cell_type": "code",
   "execution_count": 10,
   "id": "41f2155d",
   "metadata": {},
   "outputs": [
    {
     "data": {
      "text/plain": [
       "2"
      ]
     },
     "execution_count": 10,
     "metadata": {},
     "output_type": "execute_result"
    }
   ],
   "source": [
    "len(numpy_array2)"
   ]
  },
  {
   "cell_type": "code",
   "execution_count": 11,
   "id": "4ddb6091",
   "metadata": {},
   "outputs": [
    {
     "data": {
      "text/plain": [
       "(2, 2)"
      ]
     },
     "execution_count": 11,
     "metadata": {},
     "output_type": "execute_result"
    }
   ],
   "source": [
    "numpy_array2.shape"
   ]
  },
  {
   "cell_type": "code",
   "execution_count": 12,
   "id": "f3ca5d9c",
   "metadata": {},
   "outputs": [
    {
     "data": {
      "text/plain": [
       "(2, 3)"
      ]
     },
     "execution_count": 12,
     "metadata": {},
     "output_type": "execute_result"
    }
   ],
   "source": [
    "python_list_list = [[1,2,5] , [3,4,6]]\n",
    "np.array(python_list_list).shape"
   ]
  },
  {
   "cell_type": "markdown",
   "id": "03b4fcce",
   "metadata": {},
   "source": [
    "# Range"
   ]
  },
  {
   "cell_type": "code",
   "execution_count": 13,
   "id": "4944a66b",
   "metadata": {},
   "outputs": [
    {
     "data": {
      "text/plain": [
       "range(0, 5)"
      ]
     },
     "execution_count": 13,
     "metadata": {},
     "output_type": "execute_result"
    }
   ],
   "source": [
    "range(5)"
   ]
  },
  {
   "cell_type": "code",
   "execution_count": 14,
   "id": "8cfa9ef2",
   "metadata": {},
   "outputs": [
    {
     "data": {
      "text/plain": [
       "5"
      ]
     },
     "execution_count": 14,
     "metadata": {},
     "output_type": "execute_result"
    }
   ],
   "source": [
    "len(range(5))"
   ]
  },
  {
   "cell_type": "code",
   "execution_count": 15,
   "id": "5c4274e8",
   "metadata": {},
   "outputs": [
    {
     "data": {
      "text/plain": [
       "[0, 1, 2, 3, 4]"
      ]
     },
     "execution_count": 15,
     "metadata": {},
     "output_type": "execute_result"
    }
   ],
   "source": [
    "list(range(5))"
   ]
  },
  {
   "cell_type": "code",
   "execution_count": 16,
   "id": "1d1a8e56",
   "metadata": {},
   "outputs": [
    {
     "data": {
      "text/plain": [
       "array([0, 1, 2, 3, 4])"
      ]
     },
     "execution_count": 16,
     "metadata": {},
     "output_type": "execute_result"
    }
   ],
   "source": [
    "np.arange(5)"
   ]
  },
  {
   "cell_type": "code",
   "execution_count": 17,
   "id": "14e9fd05",
   "metadata": {},
   "outputs": [
    {
     "data": {
      "text/plain": [
       "array([[[0., 0.],\n",
       "        [0., 0.],\n",
       "        [0., 0.]],\n",
       "\n",
       "       [[0., 0.],\n",
       "        [0., 0.],\n",
       "        [0., 0.]]])"
      ]
     },
     "execution_count": 17,
     "metadata": {},
     "output_type": "execute_result"
    }
   ],
   "source": [
    "np.zeros((2,3,2))"
   ]
  },
  {
   "cell_type": "code",
   "execution_count": 18,
   "id": "a5da9345",
   "metadata": {},
   "outputs": [
    {
     "data": {
      "text/plain": [
       "array([[1., 1., 1.],\n",
       "       [1., 1., 1.]])"
      ]
     },
     "execution_count": 18,
     "metadata": {},
     "output_type": "execute_result"
    }
   ],
   "source": [
    "np.ones((2,3))"
   ]
  },
  {
   "cell_type": "code",
   "execution_count": 19,
   "id": "6c0ed7a9",
   "metadata": {},
   "outputs": [
    {
     "data": {
      "text/plain": [
       "array([[[1., 1., 1.],\n",
       "        [1., 1., 1.],\n",
       "        [1., 1., 1.]],\n",
       "\n",
       "       [[1., 1., 1.],\n",
       "        [1., 1., 1.],\n",
       "        [1., 1., 1.]]])"
      ]
     },
     "execution_count": 19,
     "metadata": {},
     "output_type": "execute_result"
    }
   ],
   "source": [
    "np.ones((2,3,3))"
   ]
  },
  {
   "cell_type": "code",
   "execution_count": 20,
   "id": "afc3d962",
   "metadata": {},
   "outputs": [
    {
     "data": {
      "text/plain": [
       "5"
      ]
     },
     "execution_count": 20,
     "metadata": {},
     "output_type": "execute_result"
    }
   ],
   "source": [
    "np.random.randint(10)"
   ]
  },
  {
   "cell_type": "code",
   "execution_count": 21,
   "id": "4793cb23",
   "metadata": {},
   "outputs": [
    {
     "data": {
      "text/plain": [
       "array([[0, 2],\n",
       "       [1, 2]])"
      ]
     },
     "execution_count": 21,
     "metadata": {},
     "output_type": "execute_result"
    }
   ],
   "source": [
    "# to make a random array\n",
    "\n",
    "np.random.randint(5 , size = (2,2))"
   ]
  },
  {
   "cell_type": "markdown",
   "id": "2ff593ce",
   "metadata": {},
   "source": [
    "# Data types in numpy"
   ]
  },
  {
   "cell_type": "code",
   "execution_count": 22,
   "id": "117f1c6b",
   "metadata": {},
   "outputs": [],
   "source": [
    "a = [1,2,3,4,5]\n",
    "arr = np.array(a)"
   ]
  },
  {
   "cell_type": "code",
   "execution_count": 23,
   "id": "e8b9848b",
   "metadata": {},
   "outputs": [
    {
     "data": {
      "text/plain": [
       "array([1, 2, 3, 4, 5])"
      ]
     },
     "execution_count": 23,
     "metadata": {},
     "output_type": "execute_result"
    }
   ],
   "source": [
    "arr"
   ]
  },
  {
   "cell_type": "code",
   "execution_count": 24,
   "id": "5c222fd7",
   "metadata": {},
   "outputs": [
    {
     "data": {
      "text/plain": [
       "dtype('int64')"
      ]
     },
     "execution_count": 24,
     "metadata": {},
     "output_type": "execute_result"
    }
   ],
   "source": [
    "arr.dtype"
   ]
  },
  {
   "cell_type": "code",
   "execution_count": 25,
   "id": "1697d66b",
   "metadata": {},
   "outputs": [
    {
     "data": {
      "text/plain": [
       "array([1, 2, 3, 4, 5], dtype=int32)"
      ]
     },
     "execution_count": 25,
     "metadata": {},
     "output_type": "execute_result"
    }
   ],
   "source": [
    "# changing the array datatype from 64 to 32\n",
    "\n",
    "arr = np.array(a , dtype = np.int32)\n",
    "arr"
   ]
  },
  {
   "cell_type": "code",
   "execution_count": 26,
   "id": "fa9cc4cc",
   "metadata": {},
   "outputs": [],
   "source": [
    "# float\n",
    "\n",
    "arr2 = np.array(a, dtype = float)"
   ]
  },
  {
   "cell_type": "code",
   "execution_count": 27,
   "id": "12af4814",
   "metadata": {},
   "outputs": [],
   "source": [
    "a = [1.2,2.5,3,\"4\"]"
   ]
  },
  {
   "cell_type": "code",
   "execution_count": 28,
   "id": "79205f1a",
   "metadata": {},
   "outputs": [
    {
     "data": {
      "text/plain": [
       "list"
      ]
     },
     "execution_count": 28,
     "metadata": {},
     "output_type": "execute_result"
    }
   ],
   "source": [
    "type(a)"
   ]
  },
  {
   "cell_type": "code",
   "execution_count": 29,
   "id": "077ed150",
   "metadata": {},
   "outputs": [
    {
     "data": {
      "text/plain": [
       "float"
      ]
     },
     "execution_count": 29,
     "metadata": {},
     "output_type": "execute_result"
    }
   ],
   "source": [
    "type(a[0])"
   ]
  },
  {
   "cell_type": "code",
   "execution_count": 30,
   "id": "51eb3a73",
   "metadata": {},
   "outputs": [
    {
     "data": {
      "text/plain": [
       "array(['1.2', '2.5', '3', '4'], dtype='<U32')"
      ]
     },
     "execution_count": 30,
     "metadata": {},
     "output_type": "execute_result"
    }
   ],
   "source": [
    "np.array(a)"
   ]
  },
  {
   "cell_type": "markdown",
   "id": "2c57649c",
   "metadata": {},
   "source": [
    "# NOTE: \n",
    "- one important thing is numpy automatically converts everything into a single datatype, which makes the execution easy"
   ]
  },
  {
   "cell_type": "code",
   "execution_count": 31,
   "id": "b444e5e1",
   "metadata": {},
   "outputs": [],
   "source": [
    "a = [1.2,2.5,3]"
   ]
  },
  {
   "cell_type": "code",
   "execution_count": 32,
   "id": "d9f91f58",
   "metadata": {},
   "outputs": [
    {
     "data": {
      "text/plain": [
       "int"
      ]
     },
     "execution_count": 32,
     "metadata": {},
     "output_type": "execute_result"
    }
   ],
   "source": [
    "type(a[-1])"
   ]
  },
  {
   "cell_type": "code",
   "execution_count": 33,
   "id": "f40414de",
   "metadata": {},
   "outputs": [],
   "source": [
    "float_arr = np.array(a)"
   ]
  },
  {
   "cell_type": "code",
   "execution_count": 34,
   "id": "0e8750fd",
   "metadata": {},
   "outputs": [
    {
     "data": {
      "text/plain": [
       "array([1.2, 2.5, 3. ])"
      ]
     },
     "execution_count": 34,
     "metadata": {},
     "output_type": "execute_result"
    }
   ],
   "source": [
    "float_arr"
   ]
  },
  {
   "cell_type": "code",
   "execution_count": 35,
   "id": "4d827621",
   "metadata": {},
   "outputs": [
    {
     "data": {
      "text/plain": [
       "array([1, 2, 3])"
      ]
     },
     "execution_count": 35,
     "metadata": {},
     "output_type": "execute_result"
    }
   ],
   "source": [
    "float_arr.astype(int)"
   ]
  },
  {
   "cell_type": "code",
   "execution_count": 36,
   "id": "0dcf0151",
   "metadata": {},
   "outputs": [
    {
     "data": {
      "text/plain": [
       "dtype('int64')"
      ]
     },
     "execution_count": 36,
     "metadata": {},
     "output_type": "execute_result"
    }
   ],
   "source": [
    "float_arr.astype(int).dtype"
   ]
  },
  {
   "cell_type": "code",
   "execution_count": 37,
   "id": "af8849d2",
   "metadata": {},
   "outputs": [
    {
     "data": {
      "text/plain": [
       "array([1, 2, 3])"
      ]
     },
     "execution_count": 37,
     "metadata": {},
     "output_type": "execute_result"
    }
   ],
   "source": [
    "# or \n",
    "float_arr.astype(np.int64)"
   ]
  },
  {
   "cell_type": "markdown",
   "id": "44d62995",
   "metadata": {},
   "source": [
    "# slicing numpy arrays\n",
    "- to reduce length selection , similar to list in python"
   ]
  },
  {
   "cell_type": "code",
   "execution_count": 38,
   "id": "d0957dbb",
   "metadata": {},
   "outputs": [
    {
     "data": {
      "text/plain": [
       "array([[0.13518364, 0.05039248, 0.72198088, 0.09126182, 0.30801914],\n",
       "       [0.26187724, 0.39724787, 0.76416368, 0.40207707, 0.57380015],\n",
       "       [0.38645549, 0.13398118, 0.86812397, 0.62569365, 0.04615075],\n",
       "       [0.52504896, 0.39117937, 0.23585157, 0.08235326, 0.59565951],\n",
       "       [0.20267239, 0.44215026, 0.30864439, 0.76835126, 0.4450925 ]])"
      ]
     },
     "execution_count": 38,
     "metadata": {},
     "output_type": "execute_result"
    }
   ],
   "source": [
    "arr = np.random.rand(5,5)\n",
    "arr"
   ]
  },
  {
   "cell_type": "code",
   "execution_count": 39,
   "id": "078bb7d2",
   "metadata": {},
   "outputs": [
    {
     "data": {
      "text/plain": [
       "25"
      ]
     },
     "execution_count": 39,
     "metadata": {},
     "output_type": "execute_result"
    }
   ],
   "source": [
    "arr.size "
   ]
  },
  {
   "cell_type": "code",
   "execution_count": 40,
   "id": "c1400b8e",
   "metadata": {},
   "outputs": [
    {
     "data": {
      "text/plain": [
       "(5, 5)"
      ]
     },
     "execution_count": 40,
     "metadata": {},
     "output_type": "execute_result"
    }
   ],
   "source": [
    "arr.shape"
   ]
  },
  {
   "cell_type": "code",
   "execution_count": 41,
   "id": "320bf637",
   "metadata": {},
   "outputs": [
    {
     "data": {
      "text/plain": [
       "dtype('float64')"
      ]
     },
     "execution_count": 41,
     "metadata": {},
     "output_type": "execute_result"
    }
   ],
   "source": [
    "arr.dtype"
   ]
  },
  {
   "cell_type": "code",
   "execution_count": 42,
   "id": "1133d83b",
   "metadata": {},
   "outputs": [
    {
     "data": {
      "text/plain": [
       "array([[0.13518364, 0.05039248, 0.72198088, 0.09126182, 0.30801914],\n",
       "       [0.26187724, 0.39724787, 0.76416368, 0.40207707, 0.57380015],\n",
       "       [0.38645549, 0.13398118, 0.86812397, 0.62569365, 0.04615075],\n",
       "       [0.52504896, 0.39117937, 0.23585157, 0.08235326, 0.59565951]])"
      ]
     },
     "execution_count": 42,
     "metadata": {},
     "output_type": "execute_result"
    }
   ],
   "source": [
    "# slicing 0 to 3 rows\n",
    "\n",
    "arr[:4]"
   ]
  },
  {
   "cell_type": "code",
   "execution_count": 43,
   "id": "084a5b02",
   "metadata": {},
   "outputs": [
    {
     "data": {
      "text/plain": [
       "(4, 5)"
      ]
     },
     "execution_count": 43,
     "metadata": {},
     "output_type": "execute_result"
    }
   ],
   "source": [
    "arr[:4].shape"
   ]
  },
  {
   "cell_type": "code",
   "execution_count": 44,
   "id": "87a183c3",
   "metadata": {},
   "outputs": [
    {
     "data": {
      "text/plain": [
       "array([[0.13518364, 0.05039248, 0.72198088, 0.09126182],\n",
       "       [0.26187724, 0.39724787, 0.76416368, 0.40207707],\n",
       "       [0.38645549, 0.13398118, 0.86812397, 0.62569365],\n",
       "       [0.52504896, 0.39117937, 0.23585157, 0.08235326],\n",
       "       [0.20267239, 0.44215026, 0.30864439, 0.76835126]])"
      ]
     },
     "execution_count": 44,
     "metadata": {},
     "output_type": "execute_result"
    }
   ],
   "source": [
    "arr[:, :4 ]      # selects every rows and for column it will drop last one"
   ]
  },
  {
   "cell_type": "code",
   "execution_count": 45,
   "id": "2109f2e5",
   "metadata": {},
   "outputs": [
    {
     "data": {
      "text/plain": [
       "0.3972478652047058"
      ]
     },
     "execution_count": 45,
     "metadata": {},
     "output_type": "execute_result"
    }
   ],
   "source": [
    "arr[1,1]"
   ]
  },
  {
   "cell_type": "code",
   "execution_count": 46,
   "id": "1a46e5dd",
   "metadata": {},
   "outputs": [
    {
     "data": {
      "text/plain": [
       "array([[0.13518364, 0.05039248, 0.72198088, 0.09126182, 0.30801914],\n",
       "       [0.26187724, 0.39724787, 0.76416368, 0.40207707, 0.57380015],\n",
       "       [0.38645549, 0.13398118, 0.86812397, 0.62569365, 0.04615075]])"
      ]
     },
     "execution_count": 46,
     "metadata": {},
     "output_type": "execute_result"
    }
   ],
   "source": [
    "# to drop all the rows from backward when user dont know the size of the array\n",
    "arr[:-2]"
   ]
  },
  {
   "cell_type": "markdown",
   "id": "12d6c764",
   "metadata": {},
   "source": [
    "# masking "
   ]
  },
  {
   "cell_type": "code",
   "execution_count": 47,
   "id": "1ad057fc",
   "metadata": {},
   "outputs": [],
   "source": [
    "int_arr = np.random.randint(5 , size = (6,8))"
   ]
  },
  {
   "cell_type": "code",
   "execution_count": 48,
   "id": "feeaa4a0",
   "metadata": {},
   "outputs": [
    {
     "data": {
      "text/plain": [
       "array([[2, 4, 1, 4, 2, 0, 1, 3],\n",
       "       [1, 0, 3, 1, 4, 1, 0, 0],\n",
       "       [4, 1, 3, 0, 0, 0, 3, 4],\n",
       "       [4, 2, 3, 2, 0, 1, 4, 0],\n",
       "       [2, 0, 0, 3, 1, 3, 2, 4],\n",
       "       [1, 2, 1, 2, 4, 0, 4, 0]])"
      ]
     },
     "execution_count": 48,
     "metadata": {},
     "output_type": "execute_result"
    }
   ],
   "source": [
    "int_arr"
   ]
  },
  {
   "cell_type": "code",
   "execution_count": 49,
   "id": "df5955b1",
   "metadata": {},
   "outputs": [
    {
     "data": {
      "text/plain": [
       "array([2, 4, 1, 4, 2, 0, 1, 3])"
      ]
     },
     "execution_count": 49,
     "metadata": {},
     "output_type": "execute_result"
    }
   ],
   "source": [
    "# selecting first row \n",
    "\n",
    "int_arr_0 = int_arr[0]\n",
    "int_arr_0"
   ]
  },
  {
   "cell_type": "code",
   "execution_count": 50,
   "id": "fbb171bd",
   "metadata": {},
   "outputs": [
    {
     "data": {
      "text/plain": [
       "array([False, False, False, False, False,  True, False, False])"
      ]
     },
     "execution_count": 50,
     "metadata": {},
     "output_type": "execute_result"
    }
   ],
   "source": [
    "# compares each element with user given value and return bool value\n",
    "\n",
    "int_arr_0 == 0"
   ]
  },
  {
   "cell_type": "code",
   "execution_count": 52,
   "id": "829b4c00",
   "metadata": {},
   "outputs": [
    {
     "data": {
      "text/plain": [
       "array([False, False,  True, False, False,  True,  True, False])"
      ]
     },
     "execution_count": 52,
     "metadata": {},
     "output_type": "execute_result"
    }
   ],
   "source": [
    "(int_arr_0 == 0) | (int_arr_0 == 1)"
   ]
  },
  {
   "cell_type": "code",
   "execution_count": 54,
   "id": "02f57dda",
   "metadata": {},
   "outputs": [
    {
     "data": {
      "text/plain": [
       "array([ True, False,  True, False,  True,  True,  True, False])"
      ]
     },
     "execution_count": 54,
     "metadata": {},
     "output_type": "execute_result"
    }
   ],
   "source": [
    "# new bool array formation\n",
    "\n",
    "int_arr_is012 = (int_arr_0 == 0) | (int_arr_0 == 1) | (int_arr_0 == 2)\n",
    "int_arr_is012"
   ]
  },
  {
   "cell_type": "code",
   "execution_count": 55,
   "id": "b7432fdf",
   "metadata": {},
   "outputs": [
    {
     "data": {
      "text/plain": [
       "array([2, 1, 2, 0, 1])"
      ]
     },
     "execution_count": 55,
     "metadata": {},
     "output_type": "execute_result"
    }
   ],
   "source": [
    "# masking\n",
    "\n",
    "int_arr_0[int_arr_is012]"
   ]
  },
  {
   "cell_type": "markdown",
   "id": "341eb35c",
   "metadata": {},
   "source": [
    "# Matix - transpose"
   ]
  },
  {
   "cell_type": "code",
   "execution_count": 56,
   "id": "0cc1e70b",
   "metadata": {},
   "outputs": [],
   "source": [
    "marks = [[1,2,3,4] , [5,6,7,8] , [9,10,11,12]]"
   ]
  },
  {
   "cell_type": "code",
   "execution_count": 57,
   "id": "01942722",
   "metadata": {},
   "outputs": [
    {
     "data": {
      "text/plain": [
       "[1, 2, 3, 4]"
      ]
     },
     "execution_count": 57,
     "metadata": {},
     "output_type": "execute_result"
    }
   ],
   "source": [
    "marks[0]"
   ]
  },
  {
   "cell_type": "code",
   "execution_count": 58,
   "id": "1df10bf2",
   "metadata": {},
   "outputs": [
    {
     "data": {
      "text/plain": [
       "(1, 5, 9)"
      ]
     },
     "execution_count": 58,
     "metadata": {},
     "output_type": "execute_result"
    }
   ],
   "source": [
    "marks[0][0] , marks[1][0] , marks[2][0]"
   ]
  },
  {
   "cell_type": "code",
   "execution_count": 60,
   "id": "e8142d5c",
   "metadata": {},
   "outputs": [],
   "source": [
    "marks_transpose = []\n",
    "for j in range(len(marks)):\n",
    "    marks_transpose.append([])\n",
    "    for i in range(len(marks)):\n",
    "        marks_transpose[j].append(marks[i][j])"
   ]
  },
  {
   "cell_type": "code",
   "execution_count": 61,
   "id": "d50094ce",
   "metadata": {},
   "outputs": [
    {
     "data": {
      "text/plain": [
       "[[1, 5, 9], [2, 6, 10], [3, 7, 11]]"
      ]
     },
     "execution_count": 61,
     "metadata": {},
     "output_type": "execute_result"
    }
   ],
   "source": [
    "marks_transpose"
   ]
  },
  {
   "cell_type": "code",
   "execution_count": 65,
   "id": "0da6e1ca",
   "metadata": {},
   "outputs": [],
   "source": [
    "# transpose using numpy\n",
    "\n",
    "marks_array = np.array(marks)"
   ]
  },
  {
   "cell_type": "code",
   "execution_count": 66,
   "id": "47a47c7e",
   "metadata": {},
   "outputs": [
    {
     "data": {
      "text/plain": [
       "array([[ 1,  2,  3,  4],\n",
       "       [ 5,  6,  7,  8],\n",
       "       [ 9, 10, 11, 12]])"
      ]
     },
     "execution_count": 66,
     "metadata": {},
     "output_type": "execute_result"
    }
   ],
   "source": [
    "marks_array"
   ]
  },
  {
   "cell_type": "code",
   "execution_count": 67,
   "id": "4f88df79",
   "metadata": {},
   "outputs": [
    {
     "data": {
      "text/plain": [
       "array([[ 1,  5,  9],\n",
       "       [ 2,  6, 10],\n",
       "       [ 3,  7, 11],\n",
       "       [ 4,  8, 12]])"
      ]
     },
     "execution_count": 67,
     "metadata": {},
     "output_type": "execute_result"
    }
   ],
   "source": [
    "marks_array.T"
   ]
  },
  {
   "cell_type": "code",
   "execution_count": 69,
   "id": "22cfd10c",
   "metadata": {},
   "outputs": [
    {
     "data": {
      "text/plain": [
       "array([10, 26, 42])"
      ]
     },
     "execution_count": 69,
     "metadata": {},
     "output_type": "execute_result"
    }
   ],
   "source": [
    "# normal matrix\n",
    "\n",
    "marks_array.sum(axis = 1)"
   ]
  },
  {
   "cell_type": "code",
   "execution_count": 71,
   "id": "bf325fef",
   "metadata": {},
   "outputs": [
    {
     "data": {
      "text/plain": [
       "array([15, 18, 21, 24])"
      ]
     },
     "execution_count": 71,
     "metadata": {},
     "output_type": "execute_result"
    }
   ],
   "source": [
    "# Transpose matrix\n",
    "\n",
    "marks_array.T.sum(axis = 1)"
   ]
  },
  {
   "cell_type": "markdown",
   "id": "b1ca4dca",
   "metadata": {},
   "source": [
    "# Numpy broadcasting"
   ]
  },
  {
   "cell_type": "code",
   "execution_count": 72,
   "id": "f98ed207",
   "metadata": {},
   "outputs": [
    {
     "data": {
      "text/plain": [
       "array([[ 1,  2,  3,  4],\n",
       "       [ 5,  6,  7,  8],\n",
       "       [ 9, 10, 11, 12]])"
      ]
     },
     "execution_count": 72,
     "metadata": {},
     "output_type": "execute_result"
    }
   ],
   "source": [
    "marks_array"
   ]
  },
  {
   "cell_type": "code",
   "execution_count": 76,
   "id": "8949bb46",
   "metadata": {},
   "outputs": [],
   "source": [
    "grace_marks = np.array([[1,2,3]])"
   ]
  },
  {
   "cell_type": "code",
   "execution_count": 77,
   "id": "192e1798",
   "metadata": {},
   "outputs": [
    {
     "ename": "ValueError",
     "evalue": "operands could not be broadcast together with shapes (3,4) (1,3) ",
     "output_type": "error",
     "traceback": [
      "\u001b[0;31m---------------------------------------------------------------------------\u001b[0m",
      "\u001b[0;31mValueError\u001b[0m                                Traceback (most recent call last)",
      "Cell \u001b[0;32mIn[77], line 1\u001b[0m\n\u001b[0;32m----> 1\u001b[0m marks_array \u001b[38;5;241m+\u001b[39m grace_marks\n",
      "\u001b[0;31mValueError\u001b[0m: operands could not be broadcast together with shapes (3,4) (1,3) "
     ]
    }
   ],
   "source": [
    "marks_array + grace_marks"
   ]
  },
  {
   "cell_type": "code",
   "execution_count": 78,
   "id": "13c811e9",
   "metadata": {},
   "outputs": [
    {
     "data": {
      "text/plain": [
       "(1, 3)"
      ]
     },
     "execution_count": 78,
     "metadata": {},
     "output_type": "execute_result"
    }
   ],
   "source": [
    "grace_marks.shape"
   ]
  },
  {
   "cell_type": "code",
   "execution_count": 79,
   "id": "6d89e3cf",
   "metadata": {},
   "outputs": [],
   "source": [
    "grace_marks = np.array([[1,2,3]]).T"
   ]
  },
  {
   "cell_type": "code",
   "execution_count": 80,
   "id": "e919100f",
   "metadata": {},
   "outputs": [
    {
     "data": {
      "text/plain": [
       "array([[ 2,  3,  4,  5],\n",
       "       [ 7,  8,  9, 10],\n",
       "       [12, 13, 14, 15]])"
      ]
     },
     "execution_count": 80,
     "metadata": {},
     "output_type": "execute_result"
    }
   ],
   "source": [
    "marks_array + grace_marks"
   ]
  },
  {
   "cell_type": "code",
   "execution_count": 81,
   "id": "33cc8e78",
   "metadata": {},
   "outputs": [
    {
     "data": {
      "text/plain": [
       "(3, 1)"
      ]
     },
     "execution_count": 81,
     "metadata": {},
     "output_type": "execute_result"
    }
   ],
   "source": [
    "grace_marks.shape"
   ]
  },
  {
   "cell_type": "code",
   "execution_count": 82,
   "id": "e6578fb6",
   "metadata": {},
   "outputs": [
    {
     "data": {
      "text/plain": [
       "(3, 4)"
      ]
     },
     "execution_count": 82,
     "metadata": {},
     "output_type": "execute_result"
    }
   ],
   "source": [
    "marks_array.shape"
   ]
  },
  {
   "cell_type": "markdown",
   "id": "c66390e2",
   "metadata": {},
   "source": [
    "# Matrix multiplication"
   ]
  },
  {
   "cell_type": "code",
   "execution_count": 108,
   "id": "d0f9a2f0",
   "metadata": {},
   "outputs": [],
   "source": [
    "marks = np.array(marks , dtype = float)"
   ]
  },
  {
   "cell_type": "code",
   "execution_count": 109,
   "id": "f7137906",
   "metadata": {},
   "outputs": [],
   "source": [
    "weight_list = [[0.4], [0.2], [0.2], [0.2]]"
   ]
  },
  {
   "cell_type": "code",
   "execution_count": 110,
   "id": "eb08a3ee",
   "metadata": {},
   "outputs": [
    {
     "data": {
      "text/plain": [
       "[[0.4], [0.2], [0.2], [0.2]]"
      ]
     },
     "execution_count": 110,
     "metadata": {},
     "output_type": "execute_result"
    }
   ],
   "source": [
    "weight_list"
   ]
  },
  {
   "cell_type": "code",
   "execution_count": 112,
   "id": "6e5e793f",
   "metadata": {},
   "outputs": [
    {
     "ename": "IndexError",
     "evalue": "list index out of range",
     "output_type": "error",
     "traceback": [
      "\u001b[0;31m---------------------------------------------------------------------------\u001b[0m",
      "\u001b[0;31mIndexError\u001b[0m                                Traceback (most recent call last)",
      "Cell \u001b[0;32mIn[112], line 6\u001b[0m\n\u001b[1;32m      4\u001b[0m curr_sum \u001b[38;5;241m=\u001b[39m \u001b[38;5;241m0\u001b[39m\n\u001b[1;32m      5\u001b[0m \u001b[38;5;28;01mfor\u001b[39;00m k \u001b[38;5;129;01min\u001b[39;00m \u001b[38;5;28mrange\u001b[39m(\u001b[38;5;28mlen\u001b[39m(marks[i])):\n\u001b[0;32m----> 6\u001b[0m     curr_sum \u001b[38;5;241m+\u001b[39m\u001b[38;5;241m=\u001b[39m marks[i][k] \u001b[38;5;241m*\u001b[39m weight_list[k][j]\n\u001b[1;32m      7\u001b[0m result\u001b[38;5;241m.\u001b[39mappend(curr_sum)\n",
      "\u001b[0;31mIndexError\u001b[0m: list index out of range"
     ]
    }
   ],
   "source": [
    "result = []\n",
    "for i in range(len(marks)):\n",
    "    for j in range(len(weight_list)):\n",
    "        curr_sum = 0\n",
    "        for k in range(len(marks[i])):\n",
    "            curr_sum += marks[i][k] * weight_list[k][j]\n",
    "        result.append(curr_sum)\n",
    "        \n",
    "        \n",
    "        \n",
    "# will check error later"
   ]
  },
  {
   "cell_type": "code",
   "execution_count": 97,
   "id": "bbe66c60",
   "metadata": {},
   "outputs": [
    {
     "data": {
      "text/plain": [
       "array([[ 1,  2,  3,  4],\n",
       "       [ 5,  6,  7,  8],\n",
       "       [ 9, 10, 11, 12]])"
      ]
     },
     "execution_count": 97,
     "metadata": {},
     "output_type": "execute_result"
    }
   ],
   "source": [
    "marks_array"
   ]
  },
  {
   "cell_type": "code",
   "execution_count": 98,
   "id": "eb0fa290",
   "metadata": {},
   "outputs": [],
   "source": [
    "weight_array = np.array(weight_list)"
   ]
  },
  {
   "cell_type": "code",
   "execution_count": 99,
   "id": "f02ce36c",
   "metadata": {},
   "outputs": [
    {
     "data": {
      "text/plain": [
       "array([[0.4],\n",
       "       [0.2],\n",
       "       [0.2],\n",
       "       [0.2]])"
      ]
     },
     "execution_count": 99,
     "metadata": {},
     "output_type": "execute_result"
    }
   ],
   "source": [
    "weight_array"
   ]
  },
  {
   "cell_type": "code",
   "execution_count": 104,
   "id": "2854ea1a",
   "metadata": {},
   "outputs": [
    {
     "data": {
      "text/plain": [
       "array([[ 2.2],\n",
       "       [ 6.2],\n",
       "       [10.2]])"
      ]
     },
     "execution_count": 104,
     "metadata": {},
     "output_type": "execute_result"
    }
   ],
   "source": [
    "marks_array @ weight_array"
   ]
  },
  {
   "cell_type": "code",
   "execution_count": 102,
   "id": "3353243f",
   "metadata": {},
   "outputs": [
    {
     "data": {
      "text/plain": [
       "(3, 4)"
      ]
     },
     "execution_count": 102,
     "metadata": {},
     "output_type": "execute_result"
    }
   ],
   "source": [
    "marks_array.shape"
   ]
  },
  {
   "cell_type": "code",
   "execution_count": 103,
   "id": "7929e117",
   "metadata": {},
   "outputs": [
    {
     "data": {
      "text/plain": [
       "(4, 1)"
      ]
     },
     "execution_count": 103,
     "metadata": {},
     "output_type": "execute_result"
    }
   ],
   "source": [
    "weight_array.shape"
   ]
  },
  {
   "cell_type": "markdown",
   "id": "7776d23c",
   "metadata": {},
   "source": [
    "# Tensor\n",
    "- 3d arrays, 4d or 5d.... and so is known as tensor"
   ]
  },
  {
   "cell_type": "code",
   "execution_count": null,
   "id": "ba662489",
   "metadata": {},
   "outputs": [],
   "source": []
  }
 ],
 "metadata": {
  "kernelspec": {
   "display_name": "Python 3 (ipykernel)",
   "language": "python",
   "name": "python3"
  },
  "language_info": {
   "codemirror_mode": {
    "name": "ipython",
    "version": 3
   },
   "file_extension": ".py",
   "mimetype": "text/x-python",
   "name": "python",
   "nbconvert_exporter": "python",
   "pygments_lexer": "ipython3",
   "version": "3.11.5"
  }
 },
 "nbformat": 4,
 "nbformat_minor": 5
}
